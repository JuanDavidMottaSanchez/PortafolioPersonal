{
 "cells": [
  {
   "cell_type": "code",
   "execution_count": 15,
   "metadata": {},
   "outputs": [
    {
     "name": "stdout",
     "output_type": "stream",
     "text": [
      "NO supera el 80%\n"
     ]
    },
    {
     "name": "stderr",
     "output_type": "stream",
     "text": [
      "c:\\Users\\juanm\\AppData\\Local\\Programs\\Python\\Python39\\lib\\site-packages\\sklearn\\base.py:465: UserWarning: X does not have valid feature names, but RandomForestClassifier was fitted with feature names\n",
      "  warnings.warn(\n"
     ]
    }
   ],
   "source": [
    "import joblib\n",
    "\n",
    "modeloPrediccion=joblib.load('./RFC-KPI-model.pkl')\n",
    "\n",
    "#Creacion del array de entrada\n",
    "#['no_of_trainings', 'age', 'previous_year_rating', 'length_of_service', 'awards_won', 'avg_training_score', 'department_HR', 'department_Legal', 'department_Operations', 'department_Sales & Marketing', 'education_Masters & above', 'gender_m', 'recruitment_channel_sourcing']\n",
    "xNuevo=[[2,30,3,1,0,51,0,0,0,1,0,1,1]]\n",
    "\n",
    "#predecir\n",
    "resultadoPrediccion=modeloPrediccion.predict(xNuevo)\n",
    "if resultadoPrediccion[0]==0:\n",
    "    result='NO supera el 80%'\n",
    "else:\n",
    "    result='SI supera el 80%'\n",
    "print(result)"
   ]
  }
 ],
 "metadata": {
  "kernelspec": {
   "display_name": "Python 3",
   "language": "python",
   "name": "python3"
  },
  "language_info": {
   "codemirror_mode": {
    "name": "ipython",
    "version": 3
   },
   "file_extension": ".py",
   "mimetype": "text/x-python",
   "name": "python",
   "nbconvert_exporter": "python",
   "pygments_lexer": "ipython3",
   "version": "3.9.6"
  }
 },
 "nbformat": 4,
 "nbformat_minor": 2
}
