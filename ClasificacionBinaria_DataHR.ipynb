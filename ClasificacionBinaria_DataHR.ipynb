{
 "cells": [
  {
   "cell_type": "markdown",
   "metadata": {},
   "source": [
    "# Carga de paquetes y datos fuente"
   ]
  },
  {
   "cell_type": "code",
   "execution_count": 1,
   "metadata": {},
   "outputs": [],
   "source": [
    "#Importar paquetes necesarios\n",
    "#Pandas\n",
    "import pandas as pd\n",
    "import numpy as np\n",
    "#Seaborn visualizacion de datos\n",
    "import seaborn as sns\n",
    "import matplotlib.pyplot as plt\n",
    "# Paquetes para seleccion de variables\n",
    "from sklearn.feature_selection import SelectKBest\n",
    "from sklearn.feature_selection import chi2 # chi2 Estadísticas chi-cuadrado de características no negativas para tareas de clasificación.\n",
    "#Paquete para separar muestras \n",
    "from sklearn.model_selection import cross_val_score\n",
    "from sklearn.model_selection import train_test_split\n",
    "from sklearn.model_selection import GridSearchCV\n",
    "from sklearn.metrics import accuracy_score, make_scorer\n",
    "#Paquete para crear el random forest\n",
    "from sklearn.ensemble import RandomForestClassifier\n",
    "#Paquete de metricas\n",
    "from sklearn import metrics\n",
    "#Paquete para balanceo de carga\n",
    "from imblearn.over_sampling import SMOTE"
   ]
  },
  {
   "cell_type": "markdown",
   "metadata": {},
   "source": [
    "Extracción de los datos <br>\n",
    "Tomados desde -> https://www.kaggle.com/datasets/sanjanchaudhari/employees-performance-for-hr-analytics"
   ]
  },
  {
   "cell_type": "code",
   "execution_count": 23,
   "metadata": {},
   "outputs": [
    {
     "name": "stdout",
     "output_type": "stream",
     "text": [
      "<class 'pandas.core.frame.DataFrame'>\n",
      "RangeIndex: 17417 entries, 0 to 17416\n",
      "Data columns (total 13 columns):\n",
      " #   Column                 Non-Null Count  Dtype  \n",
      "---  ------                 --------------  -----  \n",
      " 0   employee_id            17417 non-null  int64  \n",
      " 1   department             17417 non-null  object \n",
      " 2   region                 17417 non-null  object \n",
      " 3   education              16646 non-null  object \n",
      " 4   gender                 17417 non-null  object \n",
      " 5   recruitment_channel    17417 non-null  object \n",
      " 6   no_of_trainings        17417 non-null  int64  \n",
      " 7   age                    17417 non-null  int64  \n",
      " 8   previous_year_rating   16054 non-null  float64\n",
      " 9   length_of_service      17417 non-null  int64  \n",
      " 10  KPIs_met_more_than_80  17417 non-null  int64  \n",
      " 11  awards_won             17417 non-null  int64  \n",
      " 12  avg_training_score     17417 non-null  int64  \n",
      "dtypes: float64(1), int64(7), object(5)\n",
      "memory usage: 1.7+ MB\n"
     ]
    }
   ],
   "source": [
    "dataemployees = pd.read_csv(r'C:\\Users\\juanm\\Desktop\\Provisional\\Uncleaned_employees_final_dataset (1).csv')\n",
    "dataemployees.info()"
   ]
  },
  {
   "cell_type": "markdown",
   "metadata": {},
   "source": [
    "# Exploración de los datos"
   ]
  },
  {
   "cell_type": "code",
   "execution_count": 3,
   "metadata": {},
   "outputs": [
    {
     "data": {
      "text/plain": [
       "<AxesSubplot:>"
      ]
     },
     "execution_count": 3,
     "metadata": {},
     "output_type": "execute_result"
    },
    {
     "data": {
      "image/png": "[encoded data removed]",
      "text/plain": [
       "<Figure size 432x288 with 1 Axes>"
      ]
     },
     "metadata": {
      "needs_background": "light"
     },
     "output_type": "display_data"
    }
   ],
   "source": [
    "dataemployees.department.value_counts().plot(kind='bar')"
   ]
  },
  {
   "cell_type": "code",
   "execution_count": 4,
   "metadata": {},
   "outputs": [
    {
     "data": {
      "text/plain": [
       "<AxesSubplot:>"
      ]
     },
     "execution_count": 4,
     "metadata": {},
     "output_type": "execute_result"
    },
    {
     "data": {
      "image/png": "[encoded data removed]",
      "text/plain": [
       "<Figure size 432x288 with 1 Axes>"
      ]
     },
     "metadata": {
      "needs_background": "light"
     },
     "output_type": "display_data"
    }
   ],
   "source": [
    "#Revision de region\n",
    "dataemployees.education.value_counts().plot(kind='bar')"
   ]
  },
  {
   "cell_type": "code",
   "execution_count": 5,
   "metadata": {},
   "outputs": [
    {
     "data": {
      "text/plain": [
       "<AxesSubplot:>"
      ]
     },
     "execution_count": 5,
     "metadata": {},
     "output_type": "execute_result"
    },
    {
     "data": {
      "image/png": "[encoded data removed]",
      "text/plain": [
       "<Figure size 432x288 with 1 Axes>"
      ]
     },
     "metadata": {
      "needs_background": "light"
     },
     "output_type": "display_data"
    }
   ],
   "source": [
    "#Revision de genero\n",
    "dataemployees.gender.value_counts().plot(kind='bar')"
   ]
  },
  {
   "cell_type": "code",
   "execution_count": 6,
   "metadata": {},
   "outputs": [
    {
     "data": {
      "text/html": [
       "<div>\n",
       "<style scoped>\n",
       "    .dataframe tbody tr th:only-of-type {\n",
       "        vertical-align: middle;\n",
       "    }\n",
       "\n",
       "    .dataframe tbody tr th {\n",
       "        vertical-align: top;\n",
       "    }\n",
       "\n",
       "    .dataframe thead th {\n",
       "        text-align: right;\n",
       "    }\n",
       "</style>\n",
       "<table border=\"1\" class=\"dataframe\">\n",
       "  <thead>\n",
       "    <tr style=\"text-align: right;\">\n",
       "      <th></th>\n",
       "      <th>no_of_trainings</th>\n",
       "      <th>acumulado</th>\n",
       "      <th>porcentaje_acumulado</th>\n",
       "    </tr>\n",
       "  </thead>\n",
       "  <tbody>\n",
       "    <tr>\n",
       "      <th>1</th>\n",
       "      <td>14061</td>\n",
       "      <td>14061</td>\n",
       "      <td>0.807315</td>\n",
       "    </tr>\n",
       "    <tr>\n",
       "      <th>2</th>\n",
       "      <td>2628</td>\n",
       "      <td>16689</td>\n",
       "      <td>0.958202</td>\n",
       "    </tr>\n",
       "    <tr>\n",
       "      <th>3</th>\n",
       "      <td>539</td>\n",
       "      <td>17228</td>\n",
       "      <td>0.989149</td>\n",
       "    </tr>\n",
       "    <tr>\n",
       "      <th>4</th>\n",
       "      <td>137</td>\n",
       "      <td>17365</td>\n",
       "      <td>0.997014</td>\n",
       "    </tr>\n",
       "    <tr>\n",
       "      <th>5</th>\n",
       "      <td>26</td>\n",
       "      <td>17391</td>\n",
       "      <td>0.998507</td>\n",
       "    </tr>\n",
       "    <tr>\n",
       "      <th>6</th>\n",
       "      <td>16</td>\n",
       "      <td>17407</td>\n",
       "      <td>0.999426</td>\n",
       "    </tr>\n",
       "    <tr>\n",
       "      <th>7</th>\n",
       "      <td>6</td>\n",
       "      <td>17413</td>\n",
       "      <td>0.999770</td>\n",
       "    </tr>\n",
       "    <tr>\n",
       "      <th>8</th>\n",
       "      <td>2</td>\n",
       "      <td>17415</td>\n",
       "      <td>0.999885</td>\n",
       "    </tr>\n",
       "    <tr>\n",
       "      <th>9</th>\n",
       "      <td>2</td>\n",
       "      <td>17417</td>\n",
       "      <td>1.000000</td>\n",
       "    </tr>\n",
       "  </tbody>\n",
       "</table>\n",
       "</div>"
      ],
      "text/plain": [
       "   no_of_trainings  acumulado  porcentaje_acumulado\n",
       "1            14061      14061              0.807315\n",
       "2             2628      16689              0.958202\n",
       "3              539      17228              0.989149\n",
       "4              137      17365              0.997014\n",
       "5               26      17391              0.998507\n",
       "6               16      17407              0.999426\n",
       "7                6      17413              0.999770\n",
       "8                2      17415              0.999885\n",
       "9                2      17417              1.000000"
      ]
     },
     "execution_count": 6,
     "metadata": {},
     "output_type": "execute_result"
    }
   ],
   "source": [
    "#Revision de numero de entrenamiento\n",
    "analisisnot=dataemployees.no_of_trainings.value_counts().to_frame()\n",
    "analisisnot['acumulado']=analisisnot.cumsum()\n",
    "total=sum(analisisnot['no_of_trainings'])\n",
    "analisisnot['porcentaje_acumulado']=analisisnot['acumulado']/total\n",
    "analisisnot"
   ]
  },
  {
   "cell_type": "markdown",
   "metadata": {},
   "source": [
    "Puede observarse que ha medida que aumentan el numero de entrenamientos, la cantidad de datos disminuye, ahora se compara con la variable de interes"
   ]
  },
  {
   "cell_type": "code",
   "execution_count": 7,
   "metadata": {},
   "outputs": [
    {
     "data": {
      "text/html": [
       "<div>\n",
       "<style scoped>\n",
       "    .dataframe tbody tr th:only-of-type {\n",
       "        vertical-align: middle;\n",
       "    }\n",
       "\n",
       "    .dataframe tbody tr th {\n",
       "        vertical-align: top;\n",
       "    }\n",
       "\n",
       "    .dataframe thead th {\n",
       "        text-align: right;\n",
       "    }\n",
       "</style>\n",
       "<table border=\"1\" class=\"dataframe\">\n",
       "  <thead>\n",
       "    <tr style=\"text-align: right;\">\n",
       "      <th>KPIs_met_more_than_80</th>\n",
       "      <th>0</th>\n",
       "      <th>1</th>\n",
       "    </tr>\n",
       "    <tr>\n",
       "      <th>no_of_trainings</th>\n",
       "      <th></th>\n",
       "      <th></th>\n",
       "    </tr>\n",
       "  </thead>\n",
       "  <tbody>\n",
       "    <tr>\n",
       "      <th>1</th>\n",
       "      <td>8891</td>\n",
       "      <td>5170</td>\n",
       "    </tr>\n",
       "    <tr>\n",
       "      <th>2</th>\n",
       "      <td>1752</td>\n",
       "      <td>876</td>\n",
       "    </tr>\n",
       "    <tr>\n",
       "      <th>3</th>\n",
       "      <td>374</td>\n",
       "      <td>165</td>\n",
       "    </tr>\n",
       "    <tr>\n",
       "      <th>4</th>\n",
       "      <td>109</td>\n",
       "      <td>28</td>\n",
       "    </tr>\n",
       "    <tr>\n",
       "      <th>5</th>\n",
       "      <td>18</td>\n",
       "      <td>8</td>\n",
       "    </tr>\n",
       "    <tr>\n",
       "      <th>6</th>\n",
       "      <td>16</td>\n",
       "      <td>0</td>\n",
       "    </tr>\n",
       "    <tr>\n",
       "      <th>7</th>\n",
       "      <td>5</td>\n",
       "      <td>1</td>\n",
       "    </tr>\n",
       "    <tr>\n",
       "      <th>8</th>\n",
       "      <td>1</td>\n",
       "      <td>1</td>\n",
       "    </tr>\n",
       "    <tr>\n",
       "      <th>9</th>\n",
       "      <td>1</td>\n",
       "      <td>1</td>\n",
       "    </tr>\n",
       "  </tbody>\n",
       "</table>\n",
       "</div>"
      ],
      "text/plain": [
       "KPIs_met_more_than_80     0     1\n",
       "no_of_trainings                  \n",
       "1                      8891  5170\n",
       "2                      1752   876\n",
       "3                       374   165\n",
       "4                       109    28\n",
       "5                        18     8\n",
       "6                        16     0\n",
       "7                         5     1\n",
       "8                         1     1\n",
       "9                         1     1"
      ]
     },
     "execution_count": 7,
     "metadata": {},
     "output_type": "execute_result"
    }
   ],
   "source": [
    "dataemployees.pivot_table(values='employee_id',index='no_of_trainings',columns='KPIs_met_more_than_80',aggfunc='size',fill_value=0)"
   ]
  },
  {
   "cell_type": "markdown",
   "metadata": {},
   "source": [
    "Dado que la cantidad de datos desde los 6 entrenamientos es poco significativa comparado con la variable de intereses, se eliminan estos registros considerandolos outliers."
   ]
  },
  {
   "cell_type": "code",
   "execution_count": 8,
   "metadata": {},
   "outputs": [
    {
     "data": {
      "text/plain": [
       "count    17417.000000\n",
       "mean        34.807774\n",
       "std          7.694046\n",
       "min         20.000000\n",
       "25%         29.000000\n",
       "50%         33.000000\n",
       "75%         39.000000\n",
       "max         60.000000\n",
       "Name: age, dtype: float64"
      ]
     },
     "execution_count": 8,
     "metadata": {},
     "output_type": "execute_result"
    }
   ],
   "source": [
    "dataemployees.age.describe()"
   ]
  },
  {
   "cell_type": "code",
   "execution_count": 9,
   "metadata": {},
   "outputs": [
    {
     "name": "stdout",
     "output_type": "stream",
     "text": [
      "la cantidad de registros vacios en esta columna es: 1363\n"
     ]
    },
    {
     "data": {
      "text/plain": [
       "<AxesSubplot:xlabel='previous_year_rating', ylabel='Count'>"
      ]
     },
     "execution_count": 9,
     "metadata": {},
     "output_type": "execute_result"
    },
    {
     "data": {
      "image/png": "[encoded data removed]",
      "text/plain": [
       "<Figure size 432x288 with 1 Axes>"
      ]
     },
     "metadata": {
      "needs_background": "light"
     },
     "output_type": "display_data"
    }
   ],
   "source": [
    "#Revision del puntaje del año anterior\n",
    "print(f\"la cantidad de registros vacios en esta columna es: {dataemployees.previous_year_rating.isnull().sum()}\")\n",
    "sns.histplot(dataemployees.previous_year_rating)"
   ]
  },
  {
   "cell_type": "markdown",
   "metadata": {},
   "source": [
    "Dado que la columna de puntaje del año anterior tiene mas de 1000 registros vacios, se valida su conexion con otras variables, principalmente con la antiguedad."
   ]
  },
  {
   "cell_type": "code",
   "execution_count": 10,
   "metadata": {},
   "outputs": [
    {
     "data": {
      "text/html": [
       "<div>\n",
       "<style scoped>\n",
       "    .dataframe tbody tr th:only-of-type {\n",
       "        vertical-align: middle;\n",
       "    }\n",
       "\n",
       "    .dataframe tbody tr th {\n",
       "        vertical-align: top;\n",
       "    }\n",
       "\n",
       "    .dataframe thead th {\n",
       "        text-align: right;\n",
       "    }\n",
       "</style>\n",
       "<table border=\"1\" class=\"dataframe\">\n",
       "  <thead>\n",
       "    <tr style=\"text-align: right;\">\n",
       "      <th>previous_year_rating</th>\n",
       "      <th>0.0</th>\n",
       "      <th>1.0</th>\n",
       "      <th>2.0</th>\n",
       "      <th>3.0</th>\n",
       "      <th>4.0</th>\n",
       "      <th>5.0</th>\n",
       "    </tr>\n",
       "    <tr>\n",
       "      <th>length_of_service</th>\n",
       "      <th></th>\n",
       "      <th></th>\n",
       "      <th></th>\n",
       "      <th></th>\n",
       "      <th></th>\n",
       "      <th></th>\n",
       "    </tr>\n",
       "  </thead>\n",
       "  <tbody>\n",
       "    <tr>\n",
       "      <th>1</th>\n",
       "      <td>1363.0</td>\n",
       "      <td>15.0</td>\n",
       "      <td>11.0</td>\n",
       "      <td>54.0</td>\n",
       "      <td>31.0</td>\n",
       "      <td>24.0</td>\n",
       "    </tr>\n",
       "    <tr>\n",
       "      <th>2</th>\n",
       "      <td>NaN</td>\n",
       "      <td>266.0</td>\n",
       "      <td>175.0</td>\n",
       "      <td>761.0</td>\n",
       "      <td>389.0</td>\n",
       "      <td>503.0</td>\n",
       "    </tr>\n",
       "    <tr>\n",
       "      <th>3</th>\n",
       "      <td>NaN</td>\n",
       "      <td>290.0</td>\n",
       "      <td>175.0</td>\n",
       "      <td>803.0</td>\n",
       "      <td>463.0</td>\n",
       "      <td>518.0</td>\n",
       "    </tr>\n",
       "    <tr>\n",
       "      <th>4</th>\n",
       "      <td>NaN</td>\n",
       "      <td>272.0</td>\n",
       "      <td>169.0</td>\n",
       "      <td>788.0</td>\n",
       "      <td>424.0</td>\n",
       "      <td>509.0</td>\n",
       "    </tr>\n",
       "    <tr>\n",
       "      <th>5</th>\n",
       "      <td>NaN</td>\n",
       "      <td>240.0</td>\n",
       "      <td>180.0</td>\n",
       "      <td>654.0</td>\n",
       "      <td>397.0</td>\n",
       "      <td>443.0</td>\n",
       "    </tr>\n",
       "  </tbody>\n",
       "</table>\n",
       "</div>"
      ],
      "text/plain": [
       "previous_year_rating     0.0    1.0    2.0    3.0    4.0    5.0\n",
       "length_of_service                                              \n",
       "1                     1363.0   15.0   11.0   54.0   31.0   24.0\n",
       "2                        NaN  266.0  175.0  761.0  389.0  503.0\n",
       "3                        NaN  290.0  175.0  803.0  463.0  518.0\n",
       "4                        NaN  272.0  169.0  788.0  424.0  509.0\n",
       "5                        NaN  240.0  180.0  654.0  397.0  443.0"
      ]
     },
     "execution_count": 10,
     "metadata": {},
     "output_type": "execute_result"
    }
   ],
   "source": [
    "analisispyr=dataemployees.copy()\n",
    "analisispyr.previous_year_rating.fillna(0,inplace=True)\n",
    "analisispyr.pivot_table(values='employee_id',index='length_of_service',columns='previous_year_rating',aggfunc='size').head()"
   ]
  },
  {
   "cell_type": "markdown",
   "metadata": {},
   "source": [
    "De este analisis puede destacarse que todos los empleados que no tienen una puntuacion del año anterior son empleados con una antiguedad de 1 periodo, por esta razon se reemplazaran estos valores con el promedio de este grupo."
   ]
  },
  {
   "cell_type": "code",
   "execution_count": 11,
   "metadata": {},
   "outputs": [
    {
     "data": {
      "text/plain": [
       "<AxesSubplot:xlabel='KPIs_met_more_than_80', ylabel='Count'>"
      ]
     },
     "execution_count": 11,
     "metadata": {},
     "output_type": "execute_result"
    },
    {
     "data": {
      "image/png": "[encoded data removed]",
      "text/plain": [
       "<Figure size 432x288 with 1 Axes>"
      ]
     },
     "metadata": {
      "needs_background": "light"
     },
     "output_type": "display_data"
    }
   ],
   "source": [
    "#Revision de KPI\n",
    "sns.histplot(data=dataemployees.KPIs_met_more_than_80)"
   ]
  },
  {
   "cell_type": "markdown",
   "metadata": {},
   "source": [
    "De este grafico puede destacarse que la variable de interes esta desbalanceada, pues los registros con etiqueta 0 son aproximadamente el doble de los registros con la etiqueta 1. Por esta razon se balanceara los datos del modelo para no afectar su desempeño."
   ]
  },
  {
   "cell_type": "markdown",
   "metadata": {},
   "source": [
    "# Implementación del modelo"
   ]
  },
  {
   "cell_type": "markdown",
   "metadata": {},
   "source": [
    "Se ajusta los datos de acuerdo a las reglas previamente establecida en la exploración de los datos"
   ]
  },
  {
   "cell_type": "code",
   "execution_count": 12,
   "metadata": {},
   "outputs": [
    {
     "name": "stdout",
     "output_type": "stream",
     "text": [
      "<class 'pandas.core.frame.DataFrame'>\n",
      "Int64Index: 17254 entries, 0 to 17416\n",
      "Data columns (total 13 columns):\n",
      " #   Column                 Non-Null Count  Dtype  \n",
      "---  ------                 --------------  -----  \n",
      " 0   employee_id            17254 non-null  int64  \n",
      " 1   department             17254 non-null  object \n",
      " 2   region                 17254 non-null  object \n",
      " 3   education              17254 non-null  object \n",
      " 4   gender                 17254 non-null  object \n",
      " 5   recruitment_channel    17254 non-null  object \n",
      " 6   no_of_trainings        17254 non-null  int64  \n",
      " 7   age                    17254 non-null  int64  \n",
      " 8   previous_year_rating   17254 non-null  float64\n",
      " 9   length_of_service      17254 non-null  int64  \n",
      " 10  KPIs_met_more_than_80  17254 non-null  int64  \n",
      " 11  awards_won             17254 non-null  int64  \n",
      " 12  avg_training_score     17254 non-null  int64  \n",
      "dtypes: float64(1), int64(7), object(5)\n",
      "memory usage: 1.8+ MB\n"
     ]
    }
   ],
   "source": [
    "#Lectura de los datos\n",
    "dataemployees = pd.read_csv(r'C:\\Users\\juanm\\Desktop\\Provisional\\Uncleaned_employees_final_dataset (1).csv')\n",
    "#Relleno de valores vacios\n",
    "valorrelleno= round(dataemployees.query(\"length_of_service==1 and previous_year_rating>0\").previous_year_rating.mean(),0)\n",
    "dataemployees.previous_year_rating.fillna(valorrelleno,inplace=True)\n",
    "dataemployees.education.fillna('unknown',inplace=True)\n",
    "#Eliminacion de outliers\n",
    "dataemployees=dataemployees[dataemployees.no_of_trainings<=5]\n",
    "dataemployees=dataemployees[dataemployees.length_of_service<=20]\n",
    "dataemployees.info()"
   ]
  },
  {
   "cell_type": "markdown",
   "metadata": {},
   "source": [
    "Dado que existen variables categorias se crean variables dummy que son usadas por los modelos de machine learning."
   ]
  },
  {
   "cell_type": "code",
   "execution_count": 13,
   "metadata": {},
   "outputs": [
    {
     "name": "stdout",
     "output_type": "stream",
     "text": [
      "<class 'pandas.core.frame.DataFrame'>\n",
      "Int64Index: 17254 entries, 0 to 17416\n",
      "Data columns (total 23 columns):\n",
      " #   Column                        Non-Null Count  Dtype  \n",
      "---  ------                        --------------  -----  \n",
      " 0   employee_id                   17254 non-null  int64  \n",
      " 1   region                        17254 non-null  object \n",
      " 2   no_of_trainings               17254 non-null  int64  \n",
      " 3   age                           17254 non-null  int64  \n",
      " 4   previous_year_rating          17254 non-null  float64\n",
      " 5   length_of_service             17254 non-null  int64  \n",
      " 6   KPIs_met_more_than_80         17254 non-null  int64  \n",
      " 7   awards_won                    17254 non-null  int64  \n",
      " 8   avg_training_score            17254 non-null  int64  \n",
      " 9   department_Finance            17254 non-null  uint8  \n",
      " 10  department_HR                 17254 non-null  uint8  \n",
      " 11  department_Legal              17254 non-null  uint8  \n",
      " 12  department_Operations         17254 non-null  uint8  \n",
      " 13  department_Procurement        17254 non-null  uint8  \n",
      " 14  department_R&D                17254 non-null  uint8  \n",
      " 15  department_Sales & Marketing  17254 non-null  uint8  \n",
      " 16  department_Technology         17254 non-null  uint8  \n",
      " 17  education_Below Secondary     17254 non-null  uint8  \n",
      " 18  education_Masters & above     17254 non-null  uint8  \n",
      " 19  education_unknown             17254 non-null  uint8  \n",
      " 20  gender_m                      17254 non-null  uint8  \n",
      " 21  recruitment_channel_referred  17254 non-null  uint8  \n",
      " 22  recruitment_channel_sourcing  17254 non-null  uint8  \n",
      "dtypes: float64(1), int64(7), object(1), uint8(14)\n",
      "memory usage: 1.5+ MB\n"
     ]
    }
   ],
   "source": [
    "#Agregar columnas dummies para variables categoricas\n",
    "dataemployees=pd.get_dummies(data=dataemployees,columns=['department','education','gender','recruitment_channel',],drop_first=True)\n",
    "dataemployees.info()"
   ]
  },
  {
   "cell_type": "markdown",
   "metadata": {},
   "source": [
    "Se crean dataframes de las variables explicativas y la variable de interes"
   ]
  },
  {
   "cell_type": "code",
   "execution_count": 14,
   "metadata": {},
   "outputs": [],
   "source": [
    "#Crear las variables con todo el dataframe\n",
    "X_unbalanced=dataemployees[['no_of_trainings', 'age',\n",
    "       'previous_year_rating', 'length_of_service', 'awards_won',\n",
    "       'avg_training_score', 'department_Finance',\n",
    "       'department_HR', 'department_Legal', 'department_Operations',\n",
    "       'department_Procurement', 'department_R&D',\n",
    "       'department_Sales & Marketing', 'department_Technology',\n",
    "       'education_Below Secondary', 'education_Masters & above', 'gender_m',\n",
    "       'recruitment_channel_referred', 'recruitment_channel_sourcing']]\n",
    "y_unbalanced=dataemployees['KPIs_met_more_than_80']"
   ]
  },
  {
   "cell_type": "markdown",
   "metadata": {},
   "source": [
    "Se balancea la muestra con la técnica de oversampling, creando mas registros para la categoria 0"
   ]
  },
  {
   "cell_type": "code",
   "execution_count": 15,
   "metadata": {},
   "outputs": [],
   "source": [
    "# 3. Muestra Desbalanceada con Oversampling\n",
    "oversampler = SMOTE(sampling_strategy='minority')\n",
    "X, y = oversampler.fit_resample(X_unbalanced, y_unbalanced)"
   ]
  },
  {
   "cell_type": "markdown",
   "metadata": {},
   "source": [
    "Se seleccionan las variables explicativas que tiene una mejor relacion con la variable de interes, de acuerdo a un experimiento previo se identifico que con 13 variables se obtiene el mejor modelo"
   ]
  },
  {
   "cell_type": "code",
   "execution_count": 16,
   "metadata": {},
   "outputs": [
    {
     "name": "stdout",
     "output_type": "stream",
     "text": [
      "['no_of_trainings', 'age', 'previous_year_rating', 'length_of_service', 'awards_won', 'avg_training_score', 'department_HR', 'department_Legal', 'department_Operations', 'department_Sales & Marketing', 'education_Masters & above', 'gender_m', 'recruitment_channel_sourcing']\n"
     ]
    },
    {
     "data": {
      "text/html": [
       "<div>\n",
       "<style scoped>\n",
       "    .dataframe tbody tr th:only-of-type {\n",
       "        vertical-align: middle;\n",
       "    }\n",
       "\n",
       "    .dataframe tbody tr th {\n",
       "        vertical-align: top;\n",
       "    }\n",
       "\n",
       "    .dataframe thead th {\n",
       "        text-align: right;\n",
       "    }\n",
       "</style>\n",
       "<table border=\"1\" class=\"dataframe\">\n",
       "  <thead>\n",
       "    <tr style=\"text-align: right;\">\n",
       "      <th></th>\n",
       "      <th>no_of_trainings</th>\n",
       "      <th>age</th>\n",
       "      <th>previous_year_rating</th>\n",
       "      <th>length_of_service</th>\n",
       "      <th>awards_won</th>\n",
       "      <th>avg_training_score</th>\n",
       "      <th>department_HR</th>\n",
       "      <th>department_Legal</th>\n",
       "      <th>department_Operations</th>\n",
       "      <th>department_Sales &amp; Marketing</th>\n",
       "      <th>education_Masters &amp; above</th>\n",
       "      <th>gender_m</th>\n",
       "      <th>recruitment_channel_sourcing</th>\n",
       "    </tr>\n",
       "  </thead>\n",
       "  <tbody>\n",
       "    <tr>\n",
       "      <th>0</th>\n",
       "      <td>1</td>\n",
       "      <td>24</td>\n",
       "      <td>3.0</td>\n",
       "      <td>1</td>\n",
       "      <td>0</td>\n",
       "      <td>77</td>\n",
       "      <td>0</td>\n",
       "      <td>0</td>\n",
       "      <td>0</td>\n",
       "      <td>0</td>\n",
       "      <td>0</td>\n",
       "      <td>1</td>\n",
       "      <td>1</td>\n",
       "    </tr>\n",
       "    <tr>\n",
       "      <th>1</th>\n",
       "      <td>1</td>\n",
       "      <td>31</td>\n",
       "      <td>3.0</td>\n",
       "      <td>5</td>\n",
       "      <td>0</td>\n",
       "      <td>51</td>\n",
       "      <td>1</td>\n",
       "      <td>0</td>\n",
       "      <td>0</td>\n",
       "      <td>0</td>\n",
       "      <td>0</td>\n",
       "      <td>0</td>\n",
       "      <td>0</td>\n",
       "    </tr>\n",
       "    <tr>\n",
       "      <th>2</th>\n",
       "      <td>1</td>\n",
       "      <td>31</td>\n",
       "      <td>1.0</td>\n",
       "      <td>4</td>\n",
       "      <td>0</td>\n",
       "      <td>47</td>\n",
       "      <td>0</td>\n",
       "      <td>0</td>\n",
       "      <td>0</td>\n",
       "      <td>1</td>\n",
       "      <td>0</td>\n",
       "      <td>1</td>\n",
       "      <td>0</td>\n",
       "    </tr>\n",
       "    <tr>\n",
       "      <th>3</th>\n",
       "      <td>3</td>\n",
       "      <td>31</td>\n",
       "      <td>2.0</td>\n",
       "      <td>9</td>\n",
       "      <td>0</td>\n",
       "      <td>65</td>\n",
       "      <td>0</td>\n",
       "      <td>0</td>\n",
       "      <td>0</td>\n",
       "      <td>0</td>\n",
       "      <td>0</td>\n",
       "      <td>0</td>\n",
       "      <td>0</td>\n",
       "    </tr>\n",
       "    <tr>\n",
       "      <th>4</th>\n",
       "      <td>1</td>\n",
       "      <td>30</td>\n",
       "      <td>4.0</td>\n",
       "      <td>7</td>\n",
       "      <td>0</td>\n",
       "      <td>61</td>\n",
       "      <td>0</td>\n",
       "      <td>0</td>\n",
       "      <td>0</td>\n",
       "      <td>0</td>\n",
       "      <td>0</td>\n",
       "      <td>1</td>\n",
       "      <td>1</td>\n",
       "    </tr>\n",
       "  </tbody>\n",
       "</table>\n",
       "</div>"
      ],
      "text/plain": [
       "   no_of_trainings  age  previous_year_rating  length_of_service  awards_won  \\\n",
       "0                1   24                   3.0                  1           0   \n",
       "1                1   31                   3.0                  5           0   \n",
       "2                1   31                   1.0                  4           0   \n",
       "3                3   31                   2.0                  9           0   \n",
       "4                1   30                   4.0                  7           0   \n",
       "\n",
       "   avg_training_score  department_HR  department_Legal  department_Operations  \\\n",
       "0                  77              0                 0                      0   \n",
       "1                  51              1                 0                      0   \n",
       "2                  47              0                 0                      0   \n",
       "3                  65              0                 0                      0   \n",
       "4                  61              0                 0                      0   \n",
       "\n",
       "   department_Sales & Marketing  education_Masters & above  gender_m  \\\n",
       "0                             0                          0         1   \n",
       "1                             0                          0         0   \n",
       "2                             1                          0         1   \n",
       "3                             0                          0         0   \n",
       "4                             0                          0         1   \n",
       "\n",
       "   recruitment_channel_sourcing  \n",
       "0                             1  \n",
       "1                             0  \n",
       "2                             0  \n",
       "3                             0  \n",
       "4                             1  "
      ]
     },
     "execution_count": 16,
     "metadata": {},
     "output_type": "execute_result"
    }
   ],
   "source": [
    "cantidadVariables=13\n",
    "seleccion = SelectKBest(score_func=chi2, k=cantidadVariables)\n",
    "seleccion.fit_transform(X,y)\n",
    "#La lista filtro indica cuales variables son las recomendadas\n",
    "filtro = seleccion.get_support()\n",
    "#Script para seleccionar las variables mas importantes\n",
    "columnasOriginales=np.array(X.columns)\n",
    "MejoresVariables=list(columnasOriginales[filtro])\n",
    "print(MejoresVariables)\n",
    "#Se ajusta X\n",
    "X=X[MejoresVariables]\n",
    "X.head(5)"
   ]
  },
  {
   "cell_type": "markdown",
   "metadata": {},
   "source": [
    "# Creación del modelo"
   ]
  },
  {
   "cell_type": "markdown",
   "metadata": {},
   "source": [
    "Se utilizan hiperparametros y un objeto GridSearchCV para crear el mejor modelo"
   ]
  },
  {
   "cell_type": "code",
   "execution_count": 17,
   "metadata": {},
   "outputs": [
    {
     "data": {
      "text/html": [
       "<style>#sk-container-id-1 {color: black;}#sk-container-id-1 pre{padding: 0;}#sk-container-id-1 div.sk-toggleable {background-color: white;}#sk-container-id-1 label.sk-toggleable__label {cursor: pointer;display: block;width: 100%;margin-bottom: 0;padding: 0.3em;box-sizing: border-box;text-align: center;}#sk-container-id-1 label.sk-toggleable__label-arrow:before {content: \"▸\";float: left;margin-right: 0.25em;color: #696969;}#sk-container-id-1 label.sk-toggleable__label-arrow:hover:before {color: black;}#sk-container-id-1 div.sk-estimator:hover label.sk-toggleable__label-arrow:before {color: black;}#sk-container-id-1 div.sk-toggleable__content {max-height: 0;max-width: 0;overflow: hidden;text-align: left;background-color: #f0f8ff;}#sk-container-id-1 div.sk-toggleable__content pre {margin: 0.2em;color: black;border-radius: 0.25em;background-color: #f0f8ff;}#sk-container-id-1 input.sk-toggleable__control:checked~div.sk-toggleable__content {max-height: 200px;max-width: 100%;overflow: auto;}#sk-container-id-1 input.sk-toggleable__control:checked~label.sk-toggleable__label-arrow:before {content: \"▾\";}#sk-container-id-1 div.sk-estimator input.sk-toggleable__control:checked~label.sk-toggleable__label {background-color: #d4ebff;}#sk-container-id-1 div.sk-label input.sk-toggleable__control:checked~label.sk-toggleable__label {background-color: #d4ebff;}#sk-container-id-1 input.sk-hidden--visually {border: 0;clip: rect(1px 1px 1px 1px);clip: rect(1px, 1px, 1px, 1px);height: 1px;margin: -1px;overflow: hidden;padding: 0;position: absolute;width: 1px;}#sk-container-id-1 div.sk-estimator {font-family: monospace;background-color: #f0f8ff;border: 1px dotted black;border-radius: 0.25em;box-sizing: border-box;margin-bottom: 0.5em;}#sk-container-id-1 div.sk-estimator:hover {background-color: #d4ebff;}#sk-container-id-1 div.sk-parallel-item::after {content: \"\";width: 100%;border-bottom: 1px solid gray;flex-grow: 1;}#sk-container-id-1 div.sk-label:hover label.sk-toggleable__label {background-color: #d4ebff;}#sk-container-id-1 div.sk-serial::before {content: \"\";position: absolute;border-left: 1px solid gray;box-sizing: border-box;top: 0;bottom: 0;left: 50%;z-index: 0;}#sk-container-id-1 div.sk-serial {display: flex;flex-direction: column;align-items: center;background-color: white;padding-right: 0.2em;padding-left: 0.2em;position: relative;}#sk-container-id-1 div.sk-item {position: relative;z-index: 1;}#sk-container-id-1 div.sk-parallel {display: flex;align-items: stretch;justify-content: center;background-color: white;position: relative;}#sk-container-id-1 div.sk-item::before, #sk-container-id-1 div.sk-parallel-item::before {content: \"\";position: absolute;border-left: 1px solid gray;box-sizing: border-box;top: 0;bottom: 0;left: 50%;z-index: -1;}#sk-container-id-1 div.sk-parallel-item {display: flex;flex-direction: column;z-index: 1;position: relative;background-color: white;}#sk-container-id-1 div.sk-parallel-item:first-child::after {align-self: flex-end;width: 50%;}#sk-container-id-1 div.sk-parallel-item:last-child::after {align-self: flex-start;width: 50%;}#sk-container-id-1 div.sk-parallel-item:only-child::after {width: 0;}#sk-container-id-1 div.sk-dashed-wrapped {border: 1px dashed gray;margin: 0 0.4em 0.5em 0.4em;box-sizing: border-box;padding-bottom: 0.4em;background-color: white;}#sk-container-id-1 div.sk-label label {font-family: monospace;font-weight: bold;display: inline-block;line-height: 1.2em;}#sk-container-id-1 div.sk-label-container {text-align: center;}#sk-container-id-1 div.sk-container {/* jupyter's `normalize.less` sets `[hidden] { display: none; }` but bootstrap.min.css set `[hidden] { display: none !important; }` so we also need the `!important` here to be able to override the default hidden behavior on the sphinx rendered scikit-learn.org. See: https://github.com/scikit-learn/scikit-learn/issues/21755 */display: inline-block !important;position: relative;}#sk-container-id-1 div.sk-text-repr-fallback {display: none;}</style><div id=\"sk-container-id-1\" class=\"sk-top-container\"><div class=\"sk-text-repr-fallback\"><pre>GridSearchCV(cv=5, estimator=RandomForestClassifier(),\n",
       "             param_grid={&#x27;max_depth&#x27;: [5, 10, 15],\n",
       "                         &#x27;min_samples_split&#x27;: [2, 4, 6],\n",
       "                         &#x27;n_estimators&#x27;: [5, 10, 20]},\n",
       "             scoring=make_scorer(accuracy_score))</pre><b>In a Jupyter environment, please rerun this cell to show the HTML representation or trust the notebook. <br />On GitHub, the HTML representation is unable to render, please try loading this page with nbviewer.org.</b></div><div class=\"sk-container\" hidden><div class=\"sk-item sk-dashed-wrapped\"><div class=\"sk-label-container\"><div class=\"sk-label sk-toggleable\"><input class=\"sk-toggleable__control sk-hidden--visually\" id=\"sk-estimator-id-1\" type=\"checkbox\" ><label for=\"sk-estimator-id-1\" class=\"sk-toggleable__label sk-toggleable__label-arrow\">GridSearchCV</label><div class=\"sk-toggleable__content\"><pre>GridSearchCV(cv=5, estimator=RandomForestClassifier(),\n",
       "             param_grid={&#x27;max_depth&#x27;: [5, 10, 15],\n",
       "                         &#x27;min_samples_split&#x27;: [2, 4, 6],\n",
       "                         &#x27;n_estimators&#x27;: [5, 10, 20]},\n",
       "             scoring=make_scorer(accuracy_score))</pre></div></div></div><div class=\"sk-parallel\"><div class=\"sk-parallel-item\"><div class=\"sk-item\"><div class=\"sk-label-container\"><div class=\"sk-label sk-toggleable\"><input class=\"sk-toggleable__control sk-hidden--visually\" id=\"sk-estimator-id-2\" type=\"checkbox\" ><label for=\"sk-estimator-id-2\" class=\"sk-toggleable__label sk-toggleable__label-arrow\">estimator: RandomForestClassifier</label><div class=\"sk-toggleable__content\"><pre>RandomForestClassifier()</pre></div></div></div><div class=\"sk-serial\"><div class=\"sk-item\"><div class=\"sk-estimator sk-toggleable\"><input class=\"sk-toggleable__control sk-hidden--visually\" id=\"sk-estimator-id-3\" type=\"checkbox\" ><label for=\"sk-estimator-id-3\" class=\"sk-toggleable__label sk-toggleable__label-arrow\">RandomForestClassifier</label><div class=\"sk-toggleable__content\"><pre>RandomForestClassifier()</pre></div></div></div></div></div></div></div></div></div></div>"
      ],
      "text/plain": [
       "GridSearchCV(cv=5, estimator=RandomForestClassifier(),\n",
       "             param_grid={'max_depth': [5, 10, 15],\n",
       "                         'min_samples_split': [2, 4, 6],\n",
       "                         'n_estimators': [5, 10, 20]},\n",
       "             scoring=make_scorer(accuracy_score))"
      ]
     },
     "execution_count": 17,
     "metadata": {},
     "output_type": "execute_result"
    }
   ],
   "source": [
    "#Creación de los hiperparametros\n",
    "hyperparameters = {\n",
    "    'n_estimators': [5,10,20],  # Número de árboles\n",
    "    'max_depth': [5, 10, 15],  # Profundidad máxima de los árboles\n",
    "    'min_samples_split': [2, 4, 6]  # Número mínimo de muestras necesarias para dividir un nodo\n",
    "}\n",
    "# Se crea la instancia del clasificador\n",
    "modeloRFCInicial = RandomForestClassifier()\n",
    "# Creamos un objeto GridSearchCV\n",
    "grid_cv = GridSearchCV(estimator=modeloRFCInicial,\n",
    "                       param_grid=hyperparameters,\n",
    "                       scoring=make_scorer(accuracy_score),\n",
    "                       cv=5)\n",
    "# Separar los datos en entrenamientos y evaluacion\n",
    "X_train, X_test, y_train, y_test = train_test_split(X, y, test_size=0.3, random_state=42)\n",
    "# Entrenamos el GridSearchCV con los datos de entrenamiento\n",
    "grid_cv.fit(X_train, y_train)"
   ]
  },
  {
   "cell_type": "code",
   "execution_count": 18,
   "metadata": {},
   "outputs": [
    {
     "name": "stdout",
     "output_type": "stream",
     "text": [
      "El mejor conjunto de hiperparámetros es: {'max_depth': 15, 'min_samples_split': 4, 'n_estimators': 20}\n",
      "La mejor puntuación de validación cruzada obtenida fue: 0.7226649945887956\n"
     ]
    }
   ],
   "source": [
    "# Obtenemos el mejor modelo y lo asignamos a la variable modeloRFC\n",
    "modeloRFC = grid_cv.best_estimator_\n",
    "# Identificar los resultados de la validacion cruzada y mejores hiperparametros\n",
    "best_params = grid_cv.best_params_\n",
    "best_score = grid_cv.best_score_\n",
    "print(f\"El mejor conjunto de hiperparámetros es: {best_params}\")\n",
    "print(f\"La mejor puntuación de validación cruzada obtenida fue: {best_score}\")"
   ]
  },
  {
   "cell_type": "markdown",
   "metadata": {},
   "source": [
    "# Medición del modelo"
   ]
  },
  {
   "cell_type": "code",
   "execution_count": 19,
   "metadata": {},
   "outputs": [],
   "source": [
    "# Realizamos las predicciones con los datos del X_test\n",
    "y_pred_rfc = modeloRFC.predict(X_test)"
   ]
  },
  {
   "cell_type": "code",
   "execution_count": 20,
   "metadata": {},
   "outputs": [
    {
     "name": "stdout",
     "output_type": "stream",
     "text": [
      "Accuracy: 72.15%\n",
      "Precision: 72.90%\n",
      "Recall: 70.16%\n",
      "--Reporte de clasificación--\n",
      "              precision    recall  f1-score   support\n",
      "\n",
      "           0      0.715     0.741     0.728      3323\n",
      "           1      0.729     0.702     0.715      3298\n",
      "\n",
      "    accuracy                          0.721      6621\n",
      "   macro avg      0.722     0.721     0.721      6621\n",
      "weighted avg      0.722     0.721     0.721      6621\n",
      "\n"
     ]
    }
   ],
   "source": [
    "#Validar metricas del modelo\n",
    "print(f\"Accuracy: {metrics.accuracy_score(y_test, y_pred_rfc) :.2%}\")\n",
    "print(f\"Precision: {metrics.precision_score(y_test, y_pred_rfc) :.2%}\")\n",
    "print(f\"Recall: {metrics.recall_score(y_test, y_pred_rfc) :.2%}\")\n",
    "print(\"--Reporte de clasificación--\")\n",
    "print(metrics.classification_report(y_test, y_pred_rfc, digits=3))"
   ]
  },
  {
   "cell_type": "markdown",
   "metadata": {},
   "source": [
    "De acuerdo a estas metricas 72 de cada 100 predicciones seran correctas, en el 73% de los casos el modelo no etiquetara erroneamente los datos y en el 70% de los casos encontrara todas las muestras positivas"
   ]
  },
  {
   "cell_type": "markdown",
   "metadata": {},
   "source": [
    "# Analisis del modelo"
   ]
  },
  {
   "cell_type": "markdown",
   "metadata": {},
   "source": [
    "Aunque puede implementarse el modelo, se sugiere seguir explorando variables de negocio y recopilar información de otras variables para crear modelos con mejores estadisticas de rendimiento."
   ]
  }
 ],
 "metadata": {
  "kernelspec": {
   "display_name": "Python 3",
   "language": "python",
   "name": "python3"
  },
  "language_info": {
   "codemirror_mode": {
    "name": "ipython",
    "version": 3
   },
   "file_extension": ".py",
   "mimetype": "text/x-python",
   "name": "python",
   "nbconvert_exporter": "python",
   "pygments_lexer": "ipython3",
   "version": "3.9.6"
  }
 },
 "nbformat": 4,
 "nbformat_minor": 2
}
